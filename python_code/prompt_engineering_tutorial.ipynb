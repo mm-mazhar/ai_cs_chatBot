{
 "cells": [
  {
   "cell_type": "code",
   "execution_count": 2,
   "id": "b0c3b26a",
   "metadata": {},
   "outputs": [],
   "source": [
    "# !pip install pandas\n",
    "# !pip install pinecone\n",
    "# !pip unstall openai\n",
    "# !pip install python-dotenv\n",
    "# !pip install scikit-learn"
   ]
  },
  {
   "cell_type": "code",
   "execution_count": 3,
   "id": "2ef71fc7",
   "metadata": {},
   "outputs": [
    {
     "data": {
      "text/plain": [
       "True"
      ]
     },
     "execution_count": 3,
     "metadata": {},
     "output_type": "execute_result"
    }
   ],
   "source": [
    "from openai import OpenAI\n",
    "import os\n",
    "import json\n",
    "from sklearn.metrics.pairwise import cosine_similarity\n",
    "from dotenv import load_dotenv\n",
    "import tiktoken\n",
    "load_dotenv()"
   ]
  },
  {
   "cell_type": "code",
   "execution_count": 4,
   "id": "06155522",
   "metadata": {},
   "outputs": [
    {
     "name": "stdout",
     "output_type": "stream",
     "text": [
      "gpt-3.5-turbo-0125\n"
     ]
    }
   ],
   "source": [
    "API_KEY = os.getenv(\"OPENAI_API_KEY\")\n",
    "BASE_URL = f\"https://api.openai.com/v1\"\n",
    "MODEL_NAME = os.getenv(\"MODEL_NAME\")\n",
    "EMBEDDING_MODEL = os.getenv(\"EMBEDDING_MODEL\")\n",
    "\n",
    "# API_KEY = os.getenv(\"RUNPOD_TOKEN\")\n",
    "# BASE_URL = os.getenv(\"RUNPOD_CHATBOT_URL\")\n",
    "# model_name = os.getenv(\"MODEL_NAME\")\n",
    "\n",
    "print(MODEL_NAME)\n",
    "# print(API_KEY)"
   ]
  },
  {
   "cell_type": "code",
   "execution_count": 5,
   "id": "2ec6b734",
   "metadata": {},
   "outputs": [],
   "source": [
    "def get_chatbot_response(client, model_name, messages,temperature=0):\n",
    "    # Initialize the tokenizer for the model\n",
    "    tokenizer = tiktoken.encoding_for_model(model_name)\n",
    "\n",
    "    input_messages = []\n",
    "    for message in messages:\n",
    "        input_messages.append({\"role\": message[\"role\"], \"content\": message[\"content\"]})\n",
    "\n",
    "    # Count tokens sent\n",
    "    tokens_sent = sum(len(tokenizer.encode(message[\"content\"])) for message in messages)\n",
    "\n",
    "    response = client.chat.completions.create(\n",
    "        model=model_name,\n",
    "        messages=input_messages,\n",
    "        temperature=temperature,\n",
    "        top_p=0.8,\n",
    "        max_tokens=2000,\n",
    "    ).choices[0].message.content\n",
    "\n",
    "    # Count tokens received\n",
    "    tokens_received = len(tokenizer.encode(response))\n",
    "    print(\"*\" * 36)\n",
    "    # print(f\"Tokens:\")\n",
    "    print(f\"Tokens sent: {tokens_sent}, Tokens received: {tokens_received}\")  # Print token counts\n",
    "    print(\"*\" * 36)\n",
    "\n",
    "    return response"
   ]
  },
  {
   "cell_type": "code",
   "execution_count": 6,
   "id": "de2d7fa9-4c1d-4f65-9edc-64f3a2745b0c",
   "metadata": {},
   "outputs": [],
   "source": [
    "import json\n",
    "\n",
    "def print_pretty_json(response):\n",
    "    \"\"\"\n",
    "    Prints the JSON response in a pretty format.\n",
    "\n",
    "    Parameters:\n",
    "    response (str): The JSON string to be printed.\n",
    "    \"\"\"\n",
    "    try:\n",
    "        json_response = json.loads(response)  # Load the JSON string into a Python dictionary\n",
    "        print(\"Response: \")\n",
    "        print(\"*\" * 36)\n",
    "        print(json.dumps(json_response, indent=4))  # Pretty print the JSON\n",
    "        print(\"*\" * 36)\n",
    "    except json.JSONDecodeError as e:\n",
    "        print(\"Error decoding JSON:\")\n",
    "        print(e)\n",
    "        print(\"Response content:\")\n",
    "        print(response)\n",
    "\n",
    "\n",
    "# Example usage\n",
    "# response = '{\"name\": \"John\", \"age\": 30, \"city\": \"New York\"}'\n",
    "# print_pretty_json(response)"
   ]
  },
  {
   "cell_type": "code",
   "execution_count": 7,
   "id": "4081d53b",
   "metadata": {},
   "outputs": [],
   "source": [
    "client = OpenAI(\n",
    "            api_key=API_KEY,\n",
    "            base_url=BASE_URL,\n",
    "        )\n",
    "# model_name = os.getenv(\"MODEL_NAME\")"
   ]
  },
  {
   "cell_type": "code",
   "execution_count": null,
   "id": "d41ae661",
   "metadata": {},
   "outputs": [],
   "source": []
  },
  {
   "cell_type": "markdown",
   "id": "169aee36",
   "metadata": {},
   "source": [
    "# Get LLM response"
   ]
  },
  {
   "cell_type": "code",
   "execution_count": 9,
   "id": "3ba7753a",
   "metadata": {},
   "outputs": [
    {
     "name": "stdout",
     "output_type": "stream",
     "text": [
      "************************************\n",
      "Tokens sent: 7, Tokens received: 14\n",
      "************************************\n",
      "The capital of the United States of America is Washington, D.C.\n"
     ]
    }
   ],
   "source": [
    "messages = [{'role':'user', 'content': \"What's the capital of usa?\"}]\n",
    "response = get_chatbot_response(client, MODEL_NAME, messages)\n",
    "print(response)"
   ]
  },
  {
   "cell_type": "markdown",
   "id": "d180eeb4",
   "metadata": {},
   "source": [
    "# Prompt engineering"
   ]
  },
  {
   "cell_type": "markdown",
   "id": "52a1db3e",
   "metadata": {},
   "source": [
    "## Structred output"
   ]
  },
  {
   "cell_type": "code",
   "execution_count": 12,
   "id": "d50ca843",
   "metadata": {},
   "outputs": [],
   "source": [
    "system_prompt = \"\"\"\n",
    "You are a helpful assistant that answer questions about capitals of countries.\n",
    "\n",
    "Your output should be in a structured json format exactly like the one bellow. You are not allowed to write anything other than the json object:\n",
    "[\n",
    "{\n",
    "    country: the country that you will get the capital of \n",
    "    capital: the capital of the country stated\n",
    "}\n",
    "]\n",
    "\"\"\"\n",
    "messages = [{'role': 'system', 'content': system_prompt}]\n",
    "messages.append({'role': 'user', 'content': \"What's the capital of Italy?\"})"
   ]
  },
  {
   "cell_type": "code",
   "execution_count": 13,
   "id": "cc41d5e4-fc33-4f80-94c1-5ce9d81406eb",
   "metadata": {},
   "outputs": [
    {
     "data": {
      "text/plain": [
       "{'role': 'system',\n",
       " 'content': '\\nYou are a helpful assistant that answer questions about capitals of countries.\\n\\nYour output should be in a structured json format exactly like the one bellow. You are not allowed to write anything other than the json object:\\n[\\n{\\n    country: the country that you will get the capital of \\n    capital: the capital of the country stated\\n}\\n]\\n'}"
      ]
     },
     "execution_count": 13,
     "metadata": {},
     "output_type": "execute_result"
    }
   ],
   "source": [
    "messages[0]"
   ]
  },
  {
   "cell_type": "code",
   "execution_count": 14,
   "id": "a26bef05-c689-4947-a9ec-7e096352aa4d",
   "metadata": {},
   "outputs": [
    {
     "name": "stdout",
     "output_type": "stream",
     "text": [
      "************************************\n",
      "Tokens sent: 77, Tokens received: 21\n",
      "************************************\n",
      "Response: \n",
      "************************************\n",
      "[\n",
      "    {\n",
      "        \"country\": \"Italy\",\n",
      "        \"capital\": \"Rome\"\n",
      "    }\n",
      "]\n",
      "************************************\n"
     ]
    }
   ],
   "source": [
    "response = get_chatbot_response(client, MODEL_NAME, messages)\n",
    "print_pretty_json(response)"
   ]
  },
  {
   "cell_type": "code",
   "execution_count": null,
   "id": "bc4b746b",
   "metadata": {},
   "outputs": [],
   "source": []
  },
  {
   "cell_type": "markdown",
   "id": "f4e9575d",
   "metadata": {},
   "source": [
    "## input structuring"
   ]
  },
  {
   "cell_type": "code",
   "execution_count": 16,
   "id": "779e3f2c",
   "metadata": {},
   "outputs": [],
   "source": [
    "user_prompt = \"\"\"\n",
    "Get me the capitals of the following countries:\n",
    "```\n",
    "1. Italy\n",
    "2. France\n",
    "3. Germany\n",
    "``\n",
    "\"\"\"\n",
    "messages = [{'role':'system','content':system_prompt}]\n",
    "messages.append({'role':'user','content':user_prompt})"
   ]
  },
  {
   "cell_type": "code",
   "execution_count": 17,
   "id": "16a6d0e7-f977-48d3-8fea-37de2c6b8fb0",
   "metadata": {},
   "outputs": [
    {
     "data": {
      "text/plain": [
       "[{'role': 'system',\n",
       "  'content': '\\nYou are a helpful assistant that answer questions about capitals of countries.\\n\\nYour output should be in a structured json format exactly like the one bellow. You are not allowed to write anything other than the json object:\\n[\\n{\\n    country: the country that you will get the capital of \\n    capital: the capital of the country stated\\n}\\n]\\n'},\n",
       " {'role': 'user',\n",
       "  'content': '\\nGet me the capitals of the following countries:\\n```\\n1. Italy\\n2. France\\n3. Germany\\n``\\n'}]"
      ]
     },
     "execution_count": 17,
     "metadata": {},
     "output_type": "execute_result"
    }
   ],
   "source": [
    "messages"
   ]
  },
  {
   "cell_type": "code",
   "execution_count": 18,
   "id": "f21aefb6",
   "metadata": {
    "tags": []
   },
   "outputs": [
    {
     "name": "stdout",
     "output_type": "stream",
     "text": [
      "************************************\n",
      "Tokens sent: 95, Tokens received: 58\n",
      "************************************\n",
      "Response: \n",
      "************************************\n",
      "[\n",
      "    {\n",
      "        \"country\": \"Italy\",\n",
      "        \"capital\": \"Rome\"\n",
      "    },\n",
      "    {\n",
      "        \"country\": \"France\",\n",
      "        \"capital\": \"Paris\"\n",
      "    },\n",
      "    {\n",
      "        \"country\": \"Germany\",\n",
      "        \"capital\": \"Berlin\"\n",
      "    }\n",
      "]\n",
      "************************************\n"
     ]
    }
   ],
   "source": [
    "response = get_chatbot_response(client, MODEL_NAME, messages)\n",
    "print_pretty_json(response)"
   ]
  },
  {
   "cell_type": "code",
   "execution_count": null,
   "id": "5e9ccb2e-7275-485e-a446-5d25622520e5",
   "metadata": {},
   "outputs": [],
   "source": []
  },
  {
   "cell_type": "markdown",
   "id": "08ffda13",
   "metadata": {},
   "source": [
    "## Give the model time to think (Chain of thought)\n",
    "\n",
    "> https://arxiv.org/pdf/2205.11916"
   ]
  },
  {
   "cell_type": "code",
   "execution_count": 20,
   "id": "eca28fee",
   "metadata": {
    "tags": []
   },
   "outputs": [
    {
     "name": "stdout",
     "output_type": "stream",
     "text": [
      "************************************\n",
      "Tokens sent: 68, Tokens received: 11\n",
      "************************************\n",
      "Response: \n",
      "************************************\n",
      "{\n",
      "    \"result\": 3019935\n",
      "}\n",
      "************************************\n"
     ]
    }
   ],
   "source": [
    "# equation = \"1+3\"\n",
    "equation = \"259/2*8654+91072*33-12971\"\n",
    "\n",
    "user_prompt = \"\"\"\n",
    "Calculate the result of this equation: {equation}\n",
    "Your output should be in a structured json format exactly like the one below. You are not allowed to write anything other than the json object:\n",
    "{{\n",
    "    \"result\": The final number resulted from calculating the equation above\n",
    "}}\n",
    "\"\"\"\n",
    "\n",
    "user_formatted_prompt = user_prompt.format(equation=equation)\n",
    "\n",
    "messages = [{'role': 'user', 'content': user_formatted_prompt}]\n",
    "response = get_chatbot_response(client, MODEL_NAME, messages)\n",
    "print_pretty_json(response)"
   ]
  },
  {
   "cell_type": "markdown",
   "id": "c92335a1-ca01-46fe-b517-ce259a4a8fcd",
   "metadata": {},
   "source": [
    "## Improved Prompt"
   ]
  },
  {
   "cell_type": "code",
   "execution_count": 22,
   "id": "58c5128a",
   "metadata": {
    "tags": []
   },
   "outputs": [
    {
     "name": "stdout",
     "output_type": "stream",
     "text": [
      "************************************\n",
      "Tokens sent: 116, Tokens received: 89\n",
      "************************************\n",
      "Response: \n",
      "************************************\n",
      "{\n",
      "    \"steps\": [\n",
      "        \"259 / 2 = 129.5\",\n",
      "        \"129.5 * 8654 = 1120733\",\n",
      "        \"91072 * 33 = 3008496\",\n",
      "        \"1120733 + 3008496 = 4129229\",\n",
      "        \"4129229 - 12971 = 4116258\"\n",
      "    ],\n",
      "    \"result\": 4116258\n",
      "}\n",
      "************************************\n"
     ]
    }
   ],
   "source": [
    "equation = \"259/2*8654+91072*33-12971\"\n",
    "\n",
    "user_prompt = \"\"\"\n",
    "Calculate the result of this equation: {equation}\n",
    "\n",
    "Your output should be in a structured json format exactly like the one bellow. You are not allowed to write anything other than the json object:\n",
    "{{\n",
    "    steps: This is where you solve the equation bit by bit following the BEDMAS order of operations. \n",
    "    You need to show your work and calculate each step leading to final result. Feel free to write here in free text. \n",
    "    result: The final number resulted from calculating the equation above\n",
    "}}\n",
    "\"\"\"\n",
    "\n",
    "user_formatted_prompt = user_prompt.format(equation=equation)\n",
    "\n",
    "messages = [{'role': 'user', 'content': user_formatted_prompt}]\n",
    "response = get_chatbot_response(client, MODEL_NAME, messages)\n",
    "print_pretty_json(response)"
   ]
  },
  {
   "cell_type": "code",
   "execution_count": 23,
   "id": "ea4fb1ae",
   "metadata": {
    "tags": []
   },
   "outputs": [
    {
     "data": {
      "text/plain": [
       "1110323"
      ]
     },
     "execution_count": 23,
     "metadata": {},
     "output_type": "execute_result"
    }
   ],
   "source": [
    "4130258 - 3019935"
   ]
  },
  {
   "cell_type": "code",
   "execution_count": null,
   "id": "41aab814",
   "metadata": {},
   "outputs": [],
   "source": []
  },
  {
   "cell_type": "markdown",
   "id": "91e6b197",
   "metadata": {},
   "source": [
    "# RAG - Retrieval Augmented Generation"
   ]
  },
  {
   "cell_type": "code",
   "execution_count": null,
   "id": "aef1472c",
   "metadata": {},
   "outputs": [],
   "source": []
  },
  {
   "cell_type": "markdown",
   "id": "5b93c481",
   "metadata": {},
   "source": [
    "#### Asking about a subject that the LLM does not know anything about"
   ]
  },
  {
   "cell_type": "code",
   "execution_count": 26,
   "id": "05eefa05",
   "metadata": {
    "tags": []
   },
   "outputs": [
    {
     "name": "stdout",
     "output_type": "stream",
     "text": [
      "************************************\n",
      "Tokens sent: 9, Tokens received: 55\n",
      "************************************\n",
      "Error decoding JSON:\n",
      "Expecting value: line 1 column 1 (char 0)\n",
      "Response content:\n",
      "As of now, there is no information available about an iPhone 16 as Apple has not released any details or announcements about a new iPhone model beyond the iPhone 13. It is best to stay updated with Apple's official announcements and news for any updates on future iPhone models.\n"
     ]
    }
   ],
   "source": [
    "user_prompt = \"\"\"\n",
    "What's new in iphone 16?\n",
    "\"\"\"\n",
    "\n",
    "messages = [{'role': 'user', 'content': user_prompt}]\n",
    "response = get_chatbot_response(client, MODEL_NAME, messages)\n",
    "print_pretty_json(response)"
   ]
  },
  {
   "cell_type": "code",
   "execution_count": null,
   "id": "214f45f3",
   "metadata": {},
   "outputs": [],
   "source": []
  },
  {
   "cell_type": "markdown",
   "id": "f9e132c1",
   "metadata": {},
   "source": [
    "#### Giving Context to the unknown subject"
   ]
  },
  {
   "cell_type": "code",
   "execution_count": 28,
   "id": "e7f4f4bd-8ad9-48fe-a4ff-972622368e6e",
   "metadata": {
    "tags": []
   },
   "outputs": [],
   "source": [
    "question = \"What chip is used in iphone 16?\""
   ]
  },
  {
   "cell_type": "code",
   "execution_count": 29,
   "id": "8b8663c2-efb9-4f79-a040-d31f461864f6",
   "metadata": {
    "tags": []
   },
   "outputs": [],
   "source": [
    "system_prompt = \"\"\"\n",
    "You are a helpful assistant that answer questions.\n",
    "\n",
    "Your output should be in a structured json format exactly like the one bellow. You are not allowed to write anything other than the json object:\n",
    "[\n",
    "{\n",
    "    Question: The question asked\n",
    "    Answer: the answer of the question asked\n",
    "}\n",
    "]\n",
    "\"\"\""
   ]
  },
  {
   "cell_type": "code",
   "execution_count": 30,
   "id": "e753f57a",
   "metadata": {
    "tags": []
   },
   "outputs": [],
   "source": [
    "iphone_16 = \"\"\"\n",
    "The iPhone 16 introduces several exciting updates, making it one of Apple's most advanced smartphones to date. \n",
    "It features a larger 6.1-inch display for the base model and a 6.7-inch screen for the iPhone 16 Plus, with thinner bezels and a more durable Ceramic Shield. \n",
    "The iPhone 16 Pro and Pro Max boast even larger displays, measuring 6.3 and 6.9 inches respectively, offering the thinnest bezels seen on any Apple product so far.\n",
    "\n",
    "Powered by the new A18 chip (A18 Pro for the Pro models), these phones deliver significant performance improvements, with enhanced neural engine capabilities, \n",
    "faster GPU for gaming, and machine learning tasks. The camera systems are also upgraded, with the base iPhone 16 sporting a dual-camera setup with a 48MP main sensor. \n",
    "The Pro models offer a 48MP Ultra Wide and 5x telephoto camera, enhanced by Apple’s \"Camera Control\" button for more flexible photography options.\n",
    "\n",
    "Apple also introduced advanced audio features like \"Audio Mix,\" which uses machine learning to separate background sounds from speech, allowing for more refined \n",
    "audio capture during video recording. Battery life has been extended, especially in the iPhone 16 Pro Max, which is claimed to have the longest-lasting battery \n",
    "of any iPhone 9TO5MAC\n",
    "\n",
    "APPLEMAGAZINE\n",
    ".\n",
    "\n",
    "Additionally, Apple has switched to USB-C for faster charging and data transfer, and the Pro models now support up to 2x faster video encoding. \n",
    "The starting prices remain consistent with previous generations, with the iPhone 16 starting at $799, while the Pro models start at $999\n",
    "\"\"\""
   ]
  },
  {
   "cell_type": "code",
   "execution_count": 31,
   "id": "b31f5e6a",
   "metadata": {
    "tags": []
   },
   "outputs": [
    {
     "name": "stdout",
     "output_type": "stream",
     "text": [
      "\n",
      "Context:\n",
      "\n",
      "The iPhone 16 introduces several exciting updates, making it one of Apple's most advanced smartphones to date. \n",
      "It features a larger 6.1-inch display for the base model and a 6.7-inch screen for the iPhone 16 Plus, with thinner bezels and a more durable Ceramic Shield. \n",
      "The iPhone 16 Pro and Pro Max boast even larger displays, measuring 6.3 and 6.9 inches respectively, offering the thinnest bezels seen on any Apple product so far.\n",
      "\n",
      "Powered by the new A18 chip (A18 Pro for the Pro models), these phones deliver significant performance improvements, with enhanced neural engine capabilities, \n",
      "faster GPU for gaming, and machine learning tasks. The camera systems are also upgraded, with the base iPhone 16 sporting a dual-camera setup with a 48MP main sensor. \n",
      "The Pro models offer a 48MP Ultra Wide and 5x telephoto camera, enhanced by Apple’s \"Camera Control\" button for more flexible photography options.\n",
      "\n",
      "Apple also introduced advanced audio features like \"Audio Mix,\" which uses machine learning to separate background sounds from speech, allowing for more refined \n",
      "audio capture during video recording. Battery life has been extended, especially in the iPhone 16 Pro Max, which is claimed to have the longest-lasting battery \n",
      "of any iPhone 9TO5MAC\n",
      "\n",
      "APPLEMAGAZINE\n",
      ".\n",
      "\n",
      "Additionally, Apple has switched to USB-C for faster charging and data transfer, and the Pro models now support up to 2x faster video encoding. \n",
      "The starting prices remain consistent with previous generations, with the iPhone 16 starting at $799, while the Pro models start at $999\n",
      "\n",
      "\n",
      "Question:\n",
      "What chip is used in iphone 16?\n",
      "\n"
     ]
    }
   ],
   "source": [
    "user_prompt = f\"\"\"\n",
    "Context:\n",
    "{iphone_16}\n",
    "\n",
    "Question:\n",
    "{question}\n",
    "\"\"\"\n",
    "\n",
    "user_formatted_prompt = user_prompt.format(iphone_16=iphone_16, question=question)\n",
    "print(user_formatted_prompt)"
   ]
  },
  {
   "cell_type": "code",
   "execution_count": 32,
   "id": "7b7f9855-98a9-4b6e-8113-e2c389b61a8c",
   "metadata": {
    "tags": []
   },
   "outputs": [
    {
     "name": "stdout",
     "output_type": "stream",
     "text": [
      "************************************\n",
      "Tokens sent: 412, Tokens received: 37\n",
      "************************************\n",
      "Response: \n",
      "************************************\n",
      "[\n",
      "    {\n",
      "        \"Question\": \"What chip is used in iphone 16?\",\n",
      "        \"Answer\": \"The iPhone 16 is powered by the new A18 chip.\"\n",
      "    }\n",
      "]\n",
      "************************************\n"
     ]
    }
   ],
   "source": [
    "messages = [{'role': 'system', 'content': system_prompt}]\n",
    "messages.append({'role': 'user', 'content': user_formatted_prompt})\n",
    "response = get_chatbot_response(client, MODEL_NAME, messages)\n",
    "print_pretty_json(response)\n",
    "# print(response)"
   ]
  },
  {
   "cell_type": "markdown",
   "id": "546d94c8",
   "metadata": {},
   "source": [
    "#### Automatically extract context data from database"
   ]
  },
  {
   "cell_type": "code",
   "execution_count": 142,
   "id": "86b0e678",
   "metadata": {
    "tags": []
   },
   "outputs": [],
   "source": [
    "samsung_s23 = \"\"\"\n",
    "The Samsung Galaxy S23 brings some incremental but notable upgrades to its predecessor, the Galaxy S22. \n",
    "It features the Snapdragon 8 Gen 2 processor, a powerful chip optimized for the S23 series, delivering enhanced performance, especially for gaming and multitasking. \n",
    "This chip ensures top-tier speed and efficiency across all models, from the base S23 to the larger S23+ and S23 Ultra​\n",
    "STUFF\n",
    "\n",
    "TECHRADAR\n",
    ".\n",
    "\n",
    "In terms of design, the S23's camera module has been streamlined by removing the raised metal contour around the cameras, creating a cleaner, sleeker look. \n",
    "It also sports the same 6.1-inch 120Hz AMOLED display, protected by tougher Gorilla Glass Victus 2, making it more resistant to scratches and drops​\n",
    "TECHRADAR\n",
    ".\n",
    "\n",
    "The S23 Ultra stands out with its 200MP main camera, offering impressive photo clarity, especially in low-light conditions. \n",
    "The selfie camera across the series has been updated to a 12MP sensor, resulting in sharper selfies. The Ultra model also includes \n",
    "productivity tools such as the S-Pen, which remains an essential feature for note-taking and creative tasks​\n",
    "STUFF\n",
    "\n",
    "TECHRADAR\n",
    ".\n",
    "\n",
    "Battery life is solid, with the S23 Ultra featuring a 5000mAh battery that lasts comfortably through a day of heavy use. However, \n",
    "charging speeds still lag behind some competitors, with 45W wired charging, which is slower than other brands offering up to 125W charging​\n",
    "STUFF\n",
    ".\n",
    "\n",
    "Overall, the Galaxy S23 series enhances performance, durability, and camera quality, making it a strong contender for users seeking a high-performance flagship.\n",
    "\"\"\""
   ]
  },
  {
   "cell_type": "code",
   "execution_count": 144,
   "id": "7541cc68-ffe6-4509-b715-9015973eeca1",
   "metadata": {
    "tags": []
   },
   "outputs": [],
   "source": [
    "system_prompt = \"\"\"\n",
    "You are a helpful assistant that answer questions.\n",
    "\n",
    "Your output should be in a structured json format exactly like the one bellow. You are not allowed to write anything other than the json object:\n",
    "[\n",
    "{\n",
    "    Question: The question asked\n",
    "    Answer: the answer of the question asked\n",
    "}\n",
    "]\n",
    "\"\"\""
   ]
  },
  {
   "cell_type": "code",
   "execution_count": 145,
   "id": "510711ef",
   "metadata": {
    "tags": []
   },
   "outputs": [],
   "source": [
    "data = [iphone_16, samsung_s23]"
   ]
  },
  {
   "cell_type": "code",
   "execution_count": 146,
   "id": "b4b9efd3",
   "metadata": {
    "tags": []
   },
   "outputs": [],
   "source": [
    "question = \"\"\"What's new in iphone 16?\"\"\"\n",
    "user_prompt = question"
   ]
  },
  {
   "cell_type": "markdown",
   "id": "ee2a4794-a032-497b-a82e-212274a591a6",
   "metadata": {},
   "source": [
    "## Create Embeddings"
   ]
  },
  {
   "cell_type": "code",
   "execution_count": 150,
   "id": "3a12f389",
   "metadata": {
    "tags": []
   },
   "outputs": [],
   "source": [
    "embedding_client = OpenAI(\n",
    "        api_key=API_KEY,\n",
    "        base_url=BASE_URL,\n",
    ")"
   ]
  },
  {
   "cell_type": "code",
   "execution_count": 152,
   "id": "88b3fd3b",
   "metadata": {
    "tags": []
   },
   "outputs": [],
   "source": [
    "def get_embedding(embedding_client, embedding_model_name, text_input):\n",
    "    output = embedding_client.embeddings.create(input=text_input, model=embedding_model_name)\n",
    "    \n",
    "    embedings = []\n",
    "    for embedding_object in output.data:\n",
    "        embedings.append(embedding_object.embedding)\n",
    "\n",
    "    return embedings"
   ]
  },
  {
   "cell_type": "code",
   "execution_count": 153,
   "id": "9d06859b",
   "metadata": {
    "tags": []
   },
   "outputs": [],
   "source": [
    "user_prompt_embeddings = get_embedding(embedding_client, EMBEDDING_MODEL, user_prompt)"
   ]
  },
  {
   "cell_type": "code",
   "execution_count": 154,
   "id": "feb94816",
   "metadata": {
    "tags": []
   },
   "outputs": [],
   "source": [
    "# user_prompt_embeddings"
   ]
  },
  {
   "cell_type": "code",
   "execution_count": 155,
   "id": "6b6797c7",
   "metadata": {
    "tags": []
   },
   "outputs": [],
   "source": [
    "user_prompt_embeddings = user_prompt_embeddings[0]"
   ]
  },
  {
   "cell_type": "code",
   "execution_count": 157,
   "id": "44f5c89f",
   "metadata": {
    "tags": []
   },
   "outputs": [],
   "source": [
    "# user_prompt_embeddings"
   ]
  },
  {
   "cell_type": "code",
   "execution_count": 158,
   "id": "929b2c32",
   "metadata": {
    "tags": []
   },
   "outputs": [],
   "source": [
    "data_embeddings = [get_embedding(embedding_client, EMBEDDING_MODEL, x)[0] for x in data]"
   ]
  },
  {
   "cell_type": "code",
   "execution_count": 160,
   "id": "74c1c911",
   "metadata": {
    "tags": []
   },
   "outputs": [],
   "source": [
    "data_similaraty_scores = cosine_similarity([user_prompt_embeddings], data_embeddings)"
   ]
  },
  {
   "cell_type": "code",
   "execution_count": 161,
   "id": "ee652d4c",
   "metadata": {
    "tags": []
   },
   "outputs": [
    {
     "data": {
      "text/plain": [
       "array([[0.74983767, 0.40662091]])"
      ]
     },
     "execution_count": 161,
     "metadata": {},
     "output_type": "execute_result"
    }
   ],
   "source": [
    "data_similaraty_scores"
   ]
  },
  {
   "cell_type": "code",
   "execution_count": 165,
   "id": "e06a7cee",
   "metadata": {
    "tags": []
   },
   "outputs": [
    {
     "data": {
      "text/plain": [
       "np.int64(0)"
      ]
     },
     "execution_count": 165,
     "metadata": {},
     "output_type": "execute_result"
    }
   ],
   "source": [
    "closest_entry_index = data_similaraty_scores.argmax()\n",
    "closest_entry_index"
   ]
  },
  {
   "cell_type": "code",
   "execution_count": 167,
   "id": "5247a12f",
   "metadata": {
    "tags": []
   },
   "outputs": [
    {
     "data": {
      "text/plain": [
       "'\\nThe iPhone 16 introduces several exciting updates, making it one of Apple\\'s most advanced smartphones to date. \\nIt features a larger 6.1-inch display for the base model and a 6.7-inch screen for the iPhone 16 Plus, with thinner bezels and a more durable Ceramic Shield. \\nThe iPhone 16 Pro and Pro Max boast even larger displays, measuring 6.3 and 6.9 inches respectively, offering the thinnest bezels seen on any Apple product so far.\\n\\nPowered by the new A18 chip (A18 Pro for the Pro models), these phones deliver significant performance improvements, with enhanced neural engine capabilities, \\nfaster GPU for gaming, and machine learning tasks. The camera systems are also upgraded, with the base iPhone 16 sporting a dual-camera setup with a 48MP main sensor. \\nThe Pro models offer a 48MP Ultra Wide and 5x telephoto camera, enhanced by Apple’s \"Camera Control\" button for more flexible photography options.\\n\\nApple also introduced advanced audio features like \"Audio Mix,\" which uses machine learning to separate background sounds from speech, allowing for more refined \\naudio capture during video recording. Battery life has been extended, especially in the iPhone 16 Pro Max, which is claimed to have the longest-lasting battery \\nof any iPhone 9TO5MAC\\n\\nAPPLEMAGAZINE\\n.\\n\\nAdditionally, Apple has switched to USB-C for faster charging and data transfer, and the Pro models now support up to 2x faster video encoding. \\nThe starting prices remain consistent with previous generations, with the iPhone 16 starting at $799, while the Pro models start at $999\\n'"
      ]
     },
     "execution_count": 167,
     "metadata": {},
     "output_type": "execute_result"
    }
   ],
   "source": [
    "data[closest_entry_index]"
   ]
  },
  {
   "cell_type": "code",
   "execution_count": 169,
   "id": "b47352cd",
   "metadata": {
    "tags": []
   },
   "outputs": [],
   "source": [
    "context = data[closest_entry_index]"
   ]
  },
  {
   "cell_type": "code",
   "execution_count": 175,
   "id": "3e1943cd",
   "metadata": {
    "tags": []
   },
   "outputs": [
    {
     "name": "stdout",
     "output_type": "stream",
     "text": [
      "\n",
      "Context: \n",
      "The iPhone 16 introduces several exciting updates, making it one of Apple's most advanced smartphones to date. \n",
      "It features a larger 6.1-inch display for the base model and a 6.7-inch screen for the iPhone 16 Plus, with thinner bezels and a more durable Ceramic Shield. \n",
      "The iPhone 16 Pro and Pro Max boast even larger displays, measuring 6.3 and 6.9 inches respectively, offering the thinnest bezels seen on any Apple product so far.\n",
      "\n",
      "Powered by the new A18 chip (A18 Pro for the Pro models), these phones deliver significant performance improvements, with enhanced neural engine capabilities, \n",
      "faster GPU for gaming, and machine learning tasks. The camera systems are also upgraded, with the base iPhone 16 sporting a dual-camera setup with a 48MP main sensor. \n",
      "The Pro models offer a 48MP Ultra Wide and 5x telephoto camera, enhanced by Apple’s \"Camera Control\" button for more flexible photography options.\n",
      "\n",
      "Apple also introduced advanced audio features like \"Audio Mix,\" which uses machine learning to separate background sounds from speech, allowing for more refined \n",
      "audio capture during video recording. Battery life has been extended, especially in the iPhone 16 Pro Max, which is claimed to have the longest-lasting battery \n",
      "of any iPhone 9TO5MAC\n",
      "\n",
      "APPLEMAGAZINE\n",
      ".\n",
      "\n",
      "Additionally, Apple has switched to USB-C for faster charging and data transfer, and the Pro models now support up to 2x faster video encoding. \n",
      "The starting prices remain consistent with previous generations, with the iPhone 16 starting at $799, while the Pro models start at $999\n",
      "\n",
      "\n",
      "Question: What's new in iphone 16?\n",
      "\n"
     ]
    }
   ],
   "source": [
    "user_prompt_with_data = f\"\"\"\n",
    "Context: {context}\n",
    "\n",
    "Question: {user_prompt}\n",
    "\"\"\"\n",
    "\n",
    "user_formatted_prompt_with_data = user_prompt_with_data.format(context=context, user_prompt=user_prompt)\n",
    "print(user_formatted_prompt_with_data)"
   ]
  },
  {
   "cell_type": "code",
   "execution_count": null,
   "id": "21ecec6f",
   "metadata": {},
   "outputs": [],
   "source": []
  },
  {
   "cell_type": "code",
   "execution_count": 182,
   "id": "969633a2",
   "metadata": {
    "tags": []
   },
   "outputs": [
    {
     "name": "stdout",
     "output_type": "stream",
     "text": [
      "************************************\n",
      "Tokens sent: 412, Tokens received: 101\n",
      "************************************\n",
      "Response: \n",
      "************************************\n",
      "[\n",
      "    {\n",
      "        \"Question\": \"What's new in iphone 16?\",\n",
      "        \"Answer\": \"The iPhone 16 introduces several exciting updates, including larger displays, a more durable Ceramic Shield, the new A18 chip for improved performance, upgraded camera systems, advanced audio features like 'Audio Mix,' extended battery life, USB-C for faster charging and data transfer, and support for up to 2x faster video encoding in the Pro models. The starting prices remain consistent with previous generations.\"\n",
      "    }\n",
      "]\n",
      "************************************\n"
     ]
    }
   ],
   "source": [
    "messages = [{'role': 'system', 'content': system_prompt}]\n",
    "messages.append({'role': 'user', 'content': user_formatted_prompt_with_data})\n",
    "response = get_chatbot_response(client, MODEL_NAME, messages)\n",
    "print_pretty_json(response)\n",
    "# print(response)"
   ]
  },
  {
   "cell_type": "code",
   "execution_count": null,
   "id": "a00890ae",
   "metadata": {},
   "outputs": [],
   "source": []
  },
  {
   "cell_type": "code",
   "execution_count": null,
   "id": "69b598fd",
   "metadata": {},
   "outputs": [],
   "source": []
  },
  {
   "cell_type": "code",
   "execution_count": null,
   "id": "39e59445",
   "metadata": {},
   "outputs": [],
   "source": []
  }
 ],
 "metadata": {
  "kernelspec": {
   "display_name": "env-cschatbot",
   "language": "python",
   "name": "env-cschatbot"
  },
  "language_info": {
   "codemirror_mode": {
    "name": "ipython",
    "version": 3
   },
   "file_extension": ".py",
   "mimetype": "text/x-python",
   "name": "python",
   "nbconvert_exporter": "python",
   "pygments_lexer": "ipython3",
   "version": "3.11.3"
  }
 },
 "nbformat": 4,
 "nbformat_minor": 5
}
