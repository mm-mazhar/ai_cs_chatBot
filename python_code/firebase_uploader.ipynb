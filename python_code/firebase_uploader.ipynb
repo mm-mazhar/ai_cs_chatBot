{
 "cells": [
  {
   "cell_type": "code",
   "execution_count": 2,
   "id": "5d0094f2",
   "metadata": {
    "tags": []
   },
   "outputs": [],
   "source": [
    "# !pip install firebase-admin\n",
    "# !pip install google-cloud-storage\n",
    "# !pip install python-dotenv\n",
    "# !pip install pandas"
   ]
  },
  {
   "cell_type": "code",
   "execution_count": 3,
   "id": "49ffbfc4",
   "metadata": {
    "tags": []
   },
   "outputs": [
    {
     "data": {
      "text/plain": [
       "True"
      ]
     },
     "execution_count": 3,
     "metadata": {},
     "output_type": "execute_result"
    }
   ],
   "source": [
    "import firebase_admin\n",
    "from firebase_admin import credentials, storage\n",
    "from firebase_admin import db\n",
    "import cloudinary\n",
    "import cloudinary.api\n",
    "import cloudinary.uploader\n",
    "from cloudinary.utils import cloudinary_url\n",
    "import pandas as pd\n",
    "from tqdm.auto import tqdm\n",
    "import os\n",
    "import dotenv\n",
    "dotenv.load_dotenv()"
   ]
  },
  {
   "cell_type": "markdown",
   "id": "426a06fa",
   "metadata": {},
   "source": [
    "## Firebase Init"
   ]
  },
  {
   "cell_type": "code",
   "execution_count": 5,
   "id": "1cd22fb9",
   "metadata": {
    "tags": [],
    "vscode": {
     "languageId": "javascript"
    }
   },
   "outputs": [],
   "source": [
    "service_account_info ={\n",
    "    \"type\": os.getenv('FIREBASE_TYPE'),\n",
    "    \"project_id\": os.getenv('FIREBASE_PROJECT_ID'),\n",
    "    \"private_key_id\": os.getenv('FIREBASE_PRIVATE_KEY_ID'),\n",
    "    \"private_key\": os.getenv('FIREBASE_PRIVATE_KEY'),\n",
    "    \"client_email\": os.getenv('FIREBASE_CLIENT_EMAIL'),\n",
    "    \"client_id\": os.getenv('FIREBASE_CLIENT_ID'),\n",
    "    \"auth_uri\": os.getenv('FIREBASE_AUTH_URI'),\n",
    "    \"token_uri\": os.getenv('FIREBASE_TOKEN_URI'),\n",
    "    \"auth_provider_x509_cert_url\": os.getenv('FIREBASE_AUTH_PROVIDER_X509_CERT_URL'),\n",
    "    \"client_x509_cert_url\": os.getenv('FIREBASE_CLIENT_X509_CERT_URL'),\n",
    "    \"universe_domain\": os.getenv('FIREBASE_UNIVERSE_DOMAIN')\n",
    "  }\n",
    "\n",
    "realtime_db = {\n",
    "    \"realtime_db_url\": os.getenv(\"FIREBASE_DATABASE_URL\")    \n",
    "}"
   ]
  },
  {
   "cell_type": "code",
   "execution_count": 6,
   "id": "b37cbe76",
   "metadata": {
    "tags": []
   },
   "outputs": [
    {
     "name": "stdout",
     "output_type": "stream",
     "text": [
      "App Initialized\n"
     ]
    }
   ],
   "source": [
    "# Check if the default app is already initialized\n",
    "if not firebase_admin._apps:\n",
    "    cred = credentials.Certificate(service_account_info)\n",
    "    firebase_admin.initialize_app(cred, {\n",
    "        # 'storageBucket': 'coffee-shop-app-a4152.appspot.com',\n",
    "        'databaseURL': realtime_db[\"realtime_db_url\"]\n",
    "    })\n",
    "    print(\"App Initialized\")\n",
    "else:\n",
    "    print(\"Firebase app is already initialized.\")"
   ]
  },
  {
   "cell_type": "code",
   "execution_count": 7,
   "id": "b85b95be-e9c9-4241-b884-23755052f583",
   "metadata": {
    "tags": []
   },
   "outputs": [
    {
     "name": "stdout",
     "output_type": "stream",
     "text": [
      "https://cs-chatbot-app-default-rtdb.europe-west1.firebasedatabase.app\n"
     ]
    }
   ],
   "source": [
    "print(realtime_db[\"realtime_db_url\"])"
   ]
  },
  {
   "cell_type": "code",
   "execution_count": 8,
   "id": "addb5948",
   "metadata": {},
   "outputs": [],
   "source": [
    "# bucket = storage.bucket()"
   ]
  },
  {
   "cell_type": "markdown",
   "id": "b6297569-58f1-4c46-822c-34987eec648e",
   "metadata": {},
   "source": [
    "## Cloudinary Init"
   ]
  },
  {
   "cell_type": "code",
   "execution_count": 10,
   "id": "c8f36835-ffbd-4dff-a486-bd174bef8030",
   "metadata": {
    "tags": []
   },
   "outputs": [
    {
     "data": {
      "text/plain": [
       "<cloudinary.Config at 0x1b35b51a910>"
      ]
     },
     "execution_count": 10,
     "metadata": {},
     "output_type": "execute_result"
    }
   ],
   "source": [
    "# Cloudinary Configuration\n",
    "cloudinary.config( \n",
    "    cloud_name = os.getenv('CLOUDINARY_NAME'), \n",
    "    api_key = os.getenv('CLOUDINARY_API_KEY'),  \n",
    "    api_secret = os.getenv('CLOUDINARY_SECRET_KEY'),\n",
    "    secure=True\n",
    ")"
   ]
  },
  {
   "cell_type": "code",
   "execution_count": null,
   "id": "ff8095b6",
   "metadata": {},
   "outputs": [],
   "source": []
  },
  {
   "cell_type": "markdown",
   "id": "85213aa9",
   "metadata": {},
   "source": [
    "# Upload Data"
   ]
  },
  {
   "cell_type": "code",
   "execution_count": 12,
   "id": "7e0c06e4",
   "metadata": {
    "tags": []
   },
   "outputs": [],
   "source": [
    "image_folder_path = './products/images/'"
   ]
  },
  {
   "cell_type": "code",
   "execution_count": 13,
   "id": "5407981f",
   "metadata": {
    "tags": []
   },
   "outputs": [],
   "source": [
    "products_collection = db.reference('products')"
   ]
  },
  {
   "cell_type": "code",
   "execution_count": 14,
   "id": "5f98b7ed",
   "metadata": {
    "tags": []
   },
   "outputs": [
    {
     "data": {
      "text/html": [
       "<div>\n",
       "<style scoped>\n",
       "    .dataframe tbody tr th:only-of-type {\n",
       "        vertical-align: middle;\n",
       "    }\n",
       "\n",
       "    .dataframe tbody tr th {\n",
       "        vertical-align: top;\n",
       "    }\n",
       "\n",
       "    .dataframe thead th {\n",
       "        text-align: right;\n",
       "    }\n",
       "</style>\n",
       "<table border=\"1\" class=\"dataframe\">\n",
       "  <thead>\n",
       "    <tr style=\"text-align: right;\">\n",
       "      <th></th>\n",
       "      <th>name</th>\n",
       "      <th>category</th>\n",
       "      <th>description</th>\n",
       "      <th>ingredients</th>\n",
       "      <th>price</th>\n",
       "      <th>rating</th>\n",
       "      <th>image_path</th>\n",
       "    </tr>\n",
       "  </thead>\n",
       "  <tbody>\n",
       "    <tr>\n",
       "      <th>0</th>\n",
       "      <td>Cappuccino</td>\n",
       "      <td>Coffee</td>\n",
       "      <td>A rich and creamy cappuccino made with freshly...</td>\n",
       "      <td>[Espresso, Steamed Milk, Milk Foam]</td>\n",
       "      <td>4.50</td>\n",
       "      <td>4.7</td>\n",
       "      <td>cappuccino.jpg</td>\n",
       "    </tr>\n",
       "    <tr>\n",
       "      <th>1</th>\n",
       "      <td>Jumbo Savory Scone</td>\n",
       "      <td>Bakery</td>\n",
       "      <td>Deliciously flaky and buttery, this jumbo savo...</td>\n",
       "      <td>[Flour, Butter, Cheese, Herbs, Baking Powder, ...</td>\n",
       "      <td>3.25</td>\n",
       "      <td>4.3</td>\n",
       "      <td>SavoryScone.webp</td>\n",
       "    </tr>\n",
       "  </tbody>\n",
       "</table>\n",
       "</div>"
      ],
      "text/plain": [
       "                 name category  \\\n",
       "0          Cappuccino   Coffee   \n",
       "1  Jumbo Savory Scone   Bakery   \n",
       "\n",
       "                                         description  \\\n",
       "0  A rich and creamy cappuccino made with freshly...   \n",
       "1  Deliciously flaky and buttery, this jumbo savo...   \n",
       "\n",
       "                                         ingredients  price  rating  \\\n",
       "0                [Espresso, Steamed Milk, Milk Foam]   4.50     4.7   \n",
       "1  [Flour, Butter, Cheese, Herbs, Baking Powder, ...   3.25     4.3   \n",
       "\n",
       "         image_path  \n",
       "0    cappuccino.jpg  \n",
       "1  SavoryScone.webp  "
      ]
     },
     "execution_count": 14,
     "metadata": {},
     "output_type": "execute_result"
    }
   ],
   "source": [
    "df = pd.read_json('products/products.jsonl', lines=True)\n",
    "df.head(2)"
   ]
  },
  {
   "cell_type": "markdown",
   "id": "dc0fbb20-a5cf-4243-bb94-ee4da549ff83",
   "metadata": {},
   "source": [
    "### Upload Images and Collection to Firebase Storage and RealTime Database"
   ]
  },
  {
   "cell_type": "code",
   "execution_count": 16,
   "id": "48d7da07",
   "metadata": {
    "tags": []
   },
   "outputs": [],
   "source": [
    "# # Upload images to firebase storage\n",
    "# def upload_image(bucket, image_path):\n",
    "#     image_name = image_path.split('/')[-1]\n",
    "#     blob = bucket.blob(f'product_images/{image_name}')\n",
    "#     # Upload image\n",
    "#     blob.upload_from_filename(image_path)\n",
    "#     # Make the image publicly accessible and get its URL\n",
    "#     blob.make_public()\n",
    "#     return blob.public_url"
   ]
  },
  {
   "cell_type": "code",
   "execution_count": 17,
   "id": "881051e2",
   "metadata": {},
   "outputs": [],
   "source": [
    "# for index, row in df.iterrows():\n",
    "#     print(index, row['name'])\n",
    "    \n",
    "#     image_path = os.path.join(image_folder_path, row['image_path'])\n",
    "    \n",
    "#     image_url = upload_image(bucket, image_path)\n",
    "#     product_data = row.to_dict()\n",
    "#     product_data.pop('image_path')\n",
    "#     product_data['image_url'] = image_url\n",
    "    \n",
    "#     # Add to Firestore\n",
    "#     products_collection.push().set(product_data)\n",
    "    "
   ]
  },
  {
   "cell_type": "markdown",
   "id": "74aa8274-6b59-4c85-b26a-241be4ef39f8",
   "metadata": {},
   "source": [
    "### Upload Images to `Cloudinary` and Collection to Firebase `RealTime Database`"
   ]
  },
  {
   "cell_type": "code",
   "execution_count": 19,
   "id": "4ea154a6",
   "metadata": {},
   "outputs": [],
   "source": [
    "def clear_existing_data():\n",
    "    \"\"\"Clear existing data from both Firebase and Cloudinary\"\"\"\n",
    "    print(\"\\n🗑️ Clearing existing data...\")\n",
    "    \n",
    "    # Clear Firebase collection\n",
    "    try:\n",
    "        print(\"Clearing Firebase collection...\", end=\" \")\n",
    "        products_collection.delete()\n",
    "        print(\"✅\")\n",
    "    except Exception as e:\n",
    "        print(f\"\\n❌ Error clearing Firebase: {e}\")\n",
    "        \n",
    "    # Clear Cloudinary folder\n",
    "    try:\n",
    "        print(\"Clearing Cloudinary products folder...\", end=\" \")\n",
    "        # Get all images in the products folder\n",
    "        result = cloudinary.api.resources(\n",
    "            type='upload',\n",
    "            prefix='products/',\n",
    "            max_results=500\n",
    "        )\n",
    "        \n",
    "        # Delete each image\n",
    "        for resource in result.get('resources', []):\n",
    "            cloudinary.uploader.destroy(resource['public_id'])\n",
    "        print(\"✅\")\n",
    "    except Exception as e:\n",
    "        print(f\"\\n❌ Error clearing Cloudinary: {e}\")\n",
    "\n",
    "def upload_image_to_cloudinary(image_path):\n",
    "    \"\"\"Upload image to Cloudinary and return the secure URL\"\"\"\n",
    "    try:\n",
    "        image_name = os.path.splitext(os.path.basename(image_path))[0]\n",
    "        upload_result = cloudinary.uploader.upload(\n",
    "            image_path,\n",
    "            public_id=f\"product_images/{image_name}\",\n",
    "            folder=\"products\"\n",
    "        )\n",
    "        return upload_result[\"secure_url\"]\n",
    "    except Exception as e:\n",
    "        print(f\"\\n❌ Error uploading {image_path}: {e}\")\n",
    "        return None\n",
    "\n",
    "def upload_products():\n",
    "    \"\"\"Upload all products to Firebase and Cloudinary\"\"\"\n",
    "    # First clear existing data\n",
    "    clear_existing_data()\n",
    "    \n",
    "    print(\"\\n📤 Starting fresh upload process...\")\n",
    "    total_products = len(df)\n",
    "    successful_uploads = 0\n",
    "    failed_uploads = 0\n",
    "    \n",
    "    # Create progress bar\n",
    "    pbar = tqdm(total=total_products, desc=\"Uploading products\")\n",
    "    \n",
    "    for index, row in df.iterrows():\n",
    "        try:\n",
    "            pbar.set_description(f\"Processing: {row['name']}\")\n",
    "            \n",
    "            # Upload image to Cloudinary\n",
    "            image_path = os.path.join(image_folder_path, row['image_path'])\n",
    "            image_url = upload_image_to_cloudinary(image_path)\n",
    "            \n",
    "            if not image_url:\n",
    "                failed_uploads += 1\n",
    "                pbar.update(1)\n",
    "                continue\n",
    "            \n",
    "            # Prepare and upload product data to Firebase\n",
    "            product_data = row.to_dict()\n",
    "            product_data.pop('image_path', None)  # Remove local image path\n",
    "            product_data['image_url'] = image_url  # Add Cloudinary URL\n",
    "            \n",
    "            # Upload to Firebase\n",
    "            products_collection.push().set(product_data)\n",
    "            successful_uploads += 1\n",
    "            \n",
    "        except Exception as e:\n",
    "            print(f\"\\n❌ Error processing {row.get('name', 'unknown')}: {e}\")\n",
    "            failed_uploads += 1\n",
    "        finally:\n",
    "            pbar.update(1)\n",
    "    \n",
    "    # Close progress bar\n",
    "    pbar.close()\n",
    "    \n",
    "    # Print final statistics\n",
    "    print(\"\\n\" + \"=\"*40)\n",
    "    print(\"        Upload Summary        \")\n",
    "    print(\"=\"*40)\n",
    "    print(f\"Total products      : {total_products}\")\n",
    "    print(f\"Successful uploads  : {successful_uploads}\")\n",
    "    print(f\"Failed uploads     : {failed_uploads}\")\n",
    "    print(f\"Success rate       : {(successful_uploads/total_products)*100:.1f}%\")\n",
    "    print(\"=\"*40)"
   ]
  },
  {
   "cell_type": "code",
   "execution_count": 20,
   "id": "1d8087a8",
   "metadata": {},
   "outputs": [
    {
     "name": "stdout",
     "output_type": "stream",
     "text": [
      "\n",
      "⚠️  Warning: This will delete all existing products and images!\n"
     ]
    },
    {
     "name": "stdin",
     "output_type": "stream",
     "text": [
      "Are you sure you want to proceed? (yes/no):  yes\n"
     ]
    },
    {
     "name": "stdout",
     "output_type": "stream",
     "text": [
      "\n",
      "🗑️ Clearing existing data...\n",
      "Clearing Firebase collection... ✅\n",
      "Clearing Cloudinary products folder... ✅\n",
      "\n",
      "📤 Starting fresh upload process...\n"
     ]
    },
    {
     "name": "stderr",
     "output_type": "stream",
     "text": [
      "Processing: Sugar Free Vanilla syrup: 100%|█| 18/18 [00:38<00:00,  2.13s/i"
     ]
    },
    {
     "name": "stdout",
     "output_type": "stream",
     "text": [
      "\n",
      "========================================\n",
      "        Upload Summary        \n",
      "========================================\n",
      "Total products      : 18\n",
      "Successful uploads  : 18\n",
      "Failed uploads     : 0\n",
      "Success rate       : 100.0%\n",
      "========================================\n"
     ]
    },
    {
     "name": "stderr",
     "output_type": "stream",
     "text": [
      "\n"
     ]
    }
   ],
   "source": [
    "# Ask for confirmation before proceeding\n",
    "print(\"\\n⚠️  Warning: This will delete all existing products and images!\")\n",
    "confirmation = input(\"Are you sure you want to proceed? (yes/no): \")\n",
    "\n",
    "if confirmation.lower() == 'yes':\n",
    "    upload_products()\n",
    "else:\n",
    "    print(\"\\nOperation cancelled.\")\n"
   ]
  },
  {
   "cell_type": "code",
   "execution_count": null,
   "id": "187e78a4",
   "metadata": {},
   "outputs": [],
   "source": []
  }
 ],
 "metadata": {
  "kernelspec": {
   "display_name": "env-cschatbot",
   "language": "python",
   "name": "env-cschatbot"
  },
  "language_info": {
   "codemirror_mode": {
    "name": "ipython",
    "version": 3
   },
   "file_extension": ".py",
   "mimetype": "text/x-python",
   "name": "python",
   "nbconvert_exporter": "python",
   "pygments_lexer": "ipython3",
   "version": "3.11.3"
  }
 },
 "nbformat": 4,
 "nbformat_minor": 5
}
