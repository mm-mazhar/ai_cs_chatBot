{
 "cells": [
  {
   "cell_type": "code",
   "execution_count": 89,
   "id": "1d4a84f8",
   "metadata": {
    "tags": []
   },
   "outputs": [],
   "source": [
    "# !pip install pandas\n",
    "# !pip install pinecone\n",
    "# !pip unstall openai\n",
    "# !pip install python-dotenv"
   ]
  },
  {
   "cell_type": "code",
   "execution_count": 146,
   "id": "6c66af0e",
   "metadata": {
    "tags": []
   },
   "outputs": [
    {
     "data": {
      "text/plain": [
       "True"
      ]
     },
     "execution_count": 146,
     "metadata": {},
     "output_type": "execute_result"
    }
   ],
   "source": [
    "from pinecone import Pinecone, ServerlessSpec\n",
    "import os\n",
    "from pprintpp import pprint\n",
    "from openai import OpenAI\n",
    "import pandas as pd\n",
    "from time import time\n",
    "import dotenv\n",
    "dotenv.load_dotenv()"
   ]
  },
  {
   "cell_type": "code",
   "execution_count": 91,
   "id": "8c5cb20f",
   "metadata": {
    "tags": []
   },
   "outputs": [],
   "source": [
    "API_KEY = os.getenv(\"OPENAI_API_KEY\")\n",
    "BASE_URL = f\"https://api.openai.com/v1\"\n",
    "MODEL_NAME = os.getenv(\"MODEL_NAME\")\n",
    "EMBEDDING_MODEL = os.getenv(\"EMBEDDING_MODEL\")\n",
    "\n",
    "# token= os.getenv(\"RUNPOD_TOKEN\") \n",
    "# open_ai_base_url = os.getenv(\"RUNPOD_EMBEDDING_URL\") \n",
    "# model_name= os.getenv(\"MODEL_NAME\") \n",
    "PINECONE_API_KEY = os.getenv(\"PINECONE_API_KEY\")\n",
    "INDEX_NAME = os.getenv(\"PINECONE_INDEX_NAME\")"
   ]
  },
  {
   "cell_type": "code",
   "execution_count": 92,
   "id": "da432083",
   "metadata": {
    "tags": []
   },
   "outputs": [],
   "source": [
    "pc = Pinecone(api_key=PINECONE_API_KEY)\n",
    "\n",
    "client = OpenAI(\n",
    "  api_key=API_KEY, \n",
    "  base_url=BASE_URL\n",
    ")"
   ]
  },
  {
   "cell_type": "markdown",
   "id": "c1006b63",
   "metadata": {},
   "source": [
    "## Try out embeddings"
   ]
  },
  {
   "cell_type": "code",
   "execution_count": 94,
   "id": "bb120d1c",
   "metadata": {
    "scrolled": true
   },
   "outputs": [],
   "source": [
    "output = client.embeddings.create(input=[\"helloo there\"], model=EMBEDDING_MODEL)\n",
    "embedings = output.data[0].embedding\n",
    "# print(embedings)"
   ]
  },
  {
   "cell_type": "code",
   "execution_count": 95,
   "id": "29e9587b",
   "metadata": {
    "tags": []
   },
   "outputs": [
    {
     "data": {
      "text/plain": [
       "1536"
      ]
     },
     "execution_count": 95,
     "metadata": {},
     "output_type": "execute_result"
    }
   ],
   "source": [
    "len(embedings)"
   ]
  },
  {
   "cell_type": "code",
   "execution_count": null,
   "id": "cb658827",
   "metadata": {},
   "outputs": [],
   "source": []
  },
  {
   "cell_type": "markdown",
   "id": "9b8b80de",
   "metadata": {},
   "source": [
    "## Wrangle dataset"
   ]
  },
  {
   "cell_type": "code",
   "execution_count": 97,
   "id": "5e2e1be8",
   "metadata": {},
   "outputs": [],
   "source": [
    "df=pd.read_json('products/products.jsonl',lines=True)"
   ]
  },
  {
   "cell_type": "code",
   "execution_count": 98,
   "id": "dbffeb98",
   "metadata": {},
   "outputs": [
    {
     "data": {
      "text/html": [
       "<div>\n",
       "<style scoped>\n",
       "    .dataframe tbody tr th:only-of-type {\n",
       "        vertical-align: middle;\n",
       "    }\n",
       "\n",
       "    .dataframe tbody tr th {\n",
       "        vertical-align: top;\n",
       "    }\n",
       "\n",
       "    .dataframe thead th {\n",
       "        text-align: right;\n",
       "    }\n",
       "</style>\n",
       "<table border=\"1\" class=\"dataframe\">\n",
       "  <thead>\n",
       "    <tr style=\"text-align: right;\">\n",
       "      <th></th>\n",
       "      <th>name</th>\n",
       "      <th>category</th>\n",
       "      <th>description</th>\n",
       "      <th>ingredients</th>\n",
       "      <th>price</th>\n",
       "      <th>rating</th>\n",
       "      <th>image_path</th>\n",
       "    </tr>\n",
       "  </thead>\n",
       "  <tbody>\n",
       "    <tr>\n",
       "      <th>0</th>\n",
       "      <td>Cappuccino</td>\n",
       "      <td>Coffee</td>\n",
       "      <td>A rich and creamy cappuccino made with freshly...</td>\n",
       "      <td>[Espresso, Steamed Milk, Milk Foam]</td>\n",
       "      <td>4.50</td>\n",
       "      <td>4.7</td>\n",
       "      <td>cappuccino.jpg</td>\n",
       "    </tr>\n",
       "    <tr>\n",
       "      <th>1</th>\n",
       "      <td>Jumbo Savory Scone</td>\n",
       "      <td>Bakery</td>\n",
       "      <td>Deliciously flaky and buttery, this jumbo savo...</td>\n",
       "      <td>[Flour, Butter, Cheese, Herbs, Baking Powder, ...</td>\n",
       "      <td>3.25</td>\n",
       "      <td>4.3</td>\n",
       "      <td>SavoryScone.webp</td>\n",
       "    </tr>\n",
       "  </tbody>\n",
       "</table>\n",
       "</div>"
      ],
      "text/plain": [
       "                 name category  \\\n",
       "0          Cappuccino   Coffee   \n",
       "1  Jumbo Savory Scone   Bakery   \n",
       "\n",
       "                                         description  \\\n",
       "0  A rich and creamy cappuccino made with freshly...   \n",
       "1  Deliciously flaky and buttery, this jumbo savo...   \n",
       "\n",
       "                                         ingredients  price  rating  \\\n",
       "0                [Espresso, Steamed Milk, Milk Foam]   4.50     4.7   \n",
       "1  [Flour, Butter, Cheese, Herbs, Baking Powder, ...   3.25     4.3   \n",
       "\n",
       "         image_path  \n",
       "0    cappuccino.jpg  \n",
       "1  SavoryScone.webp  "
      ]
     },
     "execution_count": 98,
     "metadata": {},
     "output_type": "execute_result"
    }
   ],
   "source": [
    "df.head(2)"
   ]
  },
  {
   "cell_type": "code",
   "execution_count": null,
   "id": "1cc39471",
   "metadata": {},
   "outputs": [],
   "source": []
  },
  {
   "cell_type": "code",
   "execution_count": 99,
   "id": "d9ea042d",
   "metadata": {},
   "outputs": [],
   "source": [
    "df['text'] =  df['name'] +\": \" + df['description'] + \\\n",
    "                \" -- Ingredients: \" + df['ingredients'].astype(str) + \\\n",
    "                \" -- Price: \" + df['price'].astype(str) + \\\n",
    "                \" -- rating: \" + df['rating'].astype(str) "
   ]
  },
  {
   "cell_type": "code",
   "execution_count": 100,
   "id": "e0254a83",
   "metadata": {},
   "outputs": [
    {
     "data": {
      "text/plain": [
       "0    Cappuccino : A rich and creamy cappuccino made...\n",
       "1    Jumbo Savory Scone : Deliciously flaky and but...\n",
       "2    Latte : Smooth and creamy, our latte combines ...\n",
       "3    Chocolate Chip Biscotti : Crunchy and delightf...\n",
       "4    Espresso shot : A bold shot of rich espresso, ...\n",
       "Name: text, dtype: object"
      ]
     },
     "execution_count": 100,
     "metadata": {},
     "output_type": "execute_result"
    }
   ],
   "source": [
    "df['text'].head()"
   ]
  },
  {
   "cell_type": "code",
   "execution_count": 101,
   "id": "54a8a7cc",
   "metadata": {},
   "outputs": [],
   "source": [
    "texts = df['text'].tolist()"
   ]
  },
  {
   "cell_type": "code",
   "execution_count": 102,
   "id": "89e73365",
   "metadata": {},
   "outputs": [],
   "source": [
    "with open('products/Merry\\'s_way_about_us.txt') as f:\n",
    "    Merry_way_about_section = f.read()\n",
    "    \n",
    "Merry_way_about_section = \"Coffee shop Merry's Way about section: \" + Merry_way_about_section\n",
    "texts.append(Merry_way_about_section)"
   ]
  },
  {
   "cell_type": "code",
   "execution_count": 103,
   "id": "89c92467",
   "metadata": {
    "tags": []
   },
   "outputs": [],
   "source": [
    "with open('products/menu_items_text.txt') as f:\n",
    "    menue_items_text = f.read()\n",
    "    \n",
    "menue_items_text = \"Menu Items: \" + menue_items_text\n",
    "texts.append(menue_items_text)"
   ]
  },
  {
   "cell_type": "code",
   "execution_count": 104,
   "id": "f4432c64",
   "metadata": {
    "tags": []
   },
   "outputs": [
    {
     "data": {
      "text/plain": [
       "\"Cappuccino : A rich and creamy cappuccino made with freshly brewed espresso, steamed milk, and a frothy milk cap. This delightful drink offers a perfect balance of bold coffee flavor and smooth milk, making it an ideal companion for relaxing mornings or lively conversations. -- Ingredients: ['Espresso', 'Steamed Milk', 'Milk Foam'] -- Price: 4.5 -- rating: 4.7\""
      ]
     },
     "execution_count": 104,
     "metadata": {},
     "output_type": "execute_result"
    }
   ],
   "source": [
    "texts[0]"
   ]
  },
  {
   "cell_type": "markdown",
   "id": "12e041b1",
   "metadata": {},
   "source": [
    "## Generate Embeddings"
   ]
  },
  {
   "cell_type": "code",
   "execution_count": 106,
   "id": "d4995842",
   "metadata": {},
   "outputs": [],
   "source": [
    "output = client.embeddings.create(input=texts, model=EMBEDDING_MODEL)"
   ]
  },
  {
   "cell_type": "code",
   "execution_count": 107,
   "id": "69b16ab5",
   "metadata": {},
   "outputs": [],
   "source": [
    "embeddings = output.data"
   ]
  },
  {
   "cell_type": "code",
   "execution_count": 108,
   "id": "ffc75b47",
   "metadata": {
    "tags": []
   },
   "outputs": [],
   "source": [
    "# embeddings[0]"
   ]
  },
  {
   "cell_type": "markdown",
   "id": "b63f8308",
   "metadata": {},
   "source": [
    "## Push data to database"
   ]
  },
  {
   "cell_type": "code",
   "execution_count": 110,
   "id": "5a255797",
   "metadata": {
    "tags": []
   },
   "outputs": [],
   "source": [
    "# index_name = \"coffeeshop\"\n",
    "\n",
    "pc.create_index(\n",
    "    name=INDEX_NAME,\n",
    "    dimension=len(embedings), # Replace with your model dimensions\n",
    "    metric=\"cosine\", # Replace with your model metric\n",
    "    spec=ServerlessSpec(\n",
    "        cloud=\"aws\",\n",
    "        region=\"us-east-1\"\n",
    "    ) \n",
    ")"
   ]
  },
  {
   "cell_type": "code",
   "execution_count": 131,
   "id": "e742460e",
   "metadata": {
    "tags": []
   },
   "outputs": [
    {
     "data": {
      "text/plain": [
       "{'upserted_count': 20}"
      ]
     },
     "execution_count": 131,
     "metadata": {},
     "output_type": "execute_result"
    }
   ],
   "source": [
    "# Wait for the index to be ready\n",
    "while not pc.describe_index(INDEX_NAME).status['ready']:\n",
    "    time.sleep(1)\n",
    "\n",
    "index = pc.Index(INDEX_NAME)\n",
    "\n",
    "vectors = []\n",
    "for text, e in zip(texts, embeddings):\n",
    "    entry_id = text.split(\":\")[0].strip()\n",
    "    vectors.append({\n",
    "        \"id\": entry_id,\n",
    "        \"values\": e.embedding,\n",
    "        \"metadata\": {'text': text}\n",
    "    })\n",
    "    \n",
    "index.upsert(\n",
    "    vectors=vectors,\n",
    "    namespace=\"ns1\"\n",
    ")"
   ]
  },
  {
   "cell_type": "code",
   "execution_count": null,
   "id": "cb353a20",
   "metadata": {},
   "outputs": [],
   "source": []
  },
  {
   "cell_type": "markdown",
   "id": "978c769f",
   "metadata": {},
   "source": [
    "## Get Closest documents"
   ]
  },
  {
   "cell_type": "code",
   "execution_count": null,
   "id": "34ba1c35",
   "metadata": {},
   "outputs": [],
   "source": []
  },
  {
   "cell_type": "code",
   "execution_count": 134,
   "id": "80691695",
   "metadata": {
    "tags": []
   },
   "outputs": [],
   "source": [
    "output = client.embeddings.create(input=[\"Is Cappuccino lactose-free?\"], model=EMBEDDING_MODEL)\n",
    "embeding = output.data[0].embedding"
   ]
  },
  {
   "cell_type": "code",
   "execution_count": 136,
   "id": "601a4027-d682-4322-b872-007f3c927331",
   "metadata": {
    "tags": []
   },
   "outputs": [],
   "source": [
    "results = index.query(\n",
    "    namespace=\"ns1\",\n",
    "    vector=embeding,\n",
    "    top_k=3,\n",
    "    include_values=False,\n",
    "    include_metadata=True\n",
    ")"
   ]
  },
  {
   "cell_type": "code",
   "execution_count": 156,
   "id": "2a9c5cf5-c5dd-48e9-ae79-3472a2a03441",
   "metadata": {
    "tags": []
   },
   "outputs": [
    {
     "name": "stdout",
     "output_type": "stream",
     "text": [
      "{'matches': [{'id': 'Cappuccino',\n",
      "              'metadata': {'text': 'Cappuccino : A rich and creamy cappuccino '\n",
      "                                   'made with freshly brewed espresso, steamed '\n",
      "                                   'milk, and a frothy milk cap. This '\n",
      "                                   'delightful drink offers a perfect balance '\n",
      "                                   'of bold coffee flavor and smooth milk, '\n",
      "                                   'making it an ideal companion for relaxing '\n",
      "                                   'mornings or lively conversations. -- '\n",
      "                                   \"Ingredients: ['Espresso', 'Steamed Milk', \"\n",
      "                                   \"'Milk Foam'] -- Price: 4.5 -- rating: 4.7\"},\n",
      "              'score': 0.606524825,\n",
      "              'values': []},\n",
      "             {'id': 'Latte',\n",
      "              'metadata': {'text': 'Latte : Smooth and creamy, our latte '\n",
      "                                   'combines rich espresso with velvety '\n",
      "                                   'steamed milk, creating a perfect balance '\n",
      "                                   'of flavor and texture. Enjoy it as a '\n",
      "                                   'comforting treat any time of day, whether '\n",
      "                                   \"you're starting your morning or taking a \"\n",
      "                                   \"midday break. -- Ingredients: ['Espresso', \"\n",
      "                                   \"'Steamed Milk', 'Milk Foam'] -- Price: \"\n",
      "                                   '4.75 -- rating: 4.8'},\n",
      "              'score': 0.536465824,\n",
      "              'values': []},\n",
      "             {'id': 'Menu Items',\n",
      "              'metadata': {'text': 'Menu Items: Menu Items\\n'\n",
      "                                   '\\n'\n",
      "                                   'Cappuccino - $4.50\\n'\n",
      "                                   'Jumbo Savory Scone - $3.25\\n'\n",
      "                                   'Latte - $4.75\\n'\n",
      "                                   'Chocolate Chip Biscotti - $2.50\\n'\n",
      "                                   'Espresso shot - $2.00\\n'\n",
      "                                   'Hazelnut Biscotti - $2.75\\n'\n",
      "                                   'Chocolate Croissant - $3.75\\n'\n",
      "                                   'Dark chocolate (Drinking Chocolate) - '\n",
      "                                   '$5.00\\n'\n",
      "                                   'Cranberry Scone - $3.50\\n'\n",
      "                                   'Croissant - $3.25\\n'\n",
      "                                   'Almond Croissant - $4.00\\n'\n",
      "                                   'Ginger Biscotti - $2.50\\n'\n",
      "                                   'Oatmeal Scone - $3.25\\n'\n",
      "                                   'Ginger Scone - $3.50\\n'\n",
      "                                   'Chocolate syrup - $1.50\\n'\n",
      "                                   'Hazelnut syrup - $1.50\\n'\n",
      "                                   'Carmel syrup - $1.50\\n'\n",
      "                                   'Sugar Free Vanilla syrup - $1.50\\n'\n",
      "                                   'Dark chocolate (Packaged Chocolate) - '\n",
      "                                   '$3.00'},\n",
      "              'score': 0.438224941,\n",
      "              'values': []}],\n",
      " 'namespace': 'ns1',\n",
      " 'usage': {'read_units': 6}}\n"
     ]
    }
   ],
   "source": [
    "pprint(results)"
   ]
  },
  {
   "cell_type": "code",
   "execution_count": null,
   "id": "4d44ecd9",
   "metadata": {},
   "outputs": [],
   "source": []
  },
  {
   "cell_type": "code",
   "execution_count": null,
   "id": "3ca62f60",
   "metadata": {},
   "outputs": [],
   "source": []
  }
 ],
 "metadata": {
  "kernelspec": {
   "display_name": "env-cschatbot",
   "language": "python",
   "name": "env-cschatbot"
  },
  "language_info": {
   "codemirror_mode": {
    "name": "ipython",
    "version": 3
   },
   "file_extension": ".py",
   "mimetype": "text/x-python",
   "name": "python",
   "nbconvert_exporter": "python",
   "pygments_lexer": "ipython3",
   "version": "3.11.3"
  }
 },
 "nbformat": 4,
 "nbformat_minor": 5
}
